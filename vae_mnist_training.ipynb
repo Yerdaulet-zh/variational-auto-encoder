{
 "cells": [
  {
   "cell_type": "code",
   "execution_count": 1,
   "metadata": {},
   "outputs": [
    {
     "name": "stderr",
     "output_type": "stream",
     "text": [
      "/home/yerdaulet/Documents/bee/VAE/.venv/lib/python3.12/site-packages/torch/cuda/__init__.py:129: UserWarning: CUDA initialization: CUDA unknown error - this may be due to an incorrectly set up environment, e.g. changing env variable CUDA_VISIBLE_DEVICES after program start. Setting the available devices to be zero. (Triggered internally at ../c10/cuda/CUDAFunctions.cpp:108.)\n",
      "  return torch._C._cuda_getDeviceCount() > 0\n"
     ]
    }
   ],
   "source": [
    "import os\n",
    "import tqdm \n",
    "import torch\n",
    "import numpy as np\n",
    "import pandas as pd\n",
    "import matplotlib.pyplot as plt\n",
    "from torchvision import datasets, transforms\n",
    "\n",
    "device = 'cuda' if torch.cuda.is_available() else 'cpu'"
   ]
  },
  {
   "cell_type": "markdown",
   "metadata": {},
   "source": [
    "### Dataset preparation"
   ]
  },
  {
   "cell_type": "code",
   "execution_count": 2,
   "metadata": {},
   "outputs": [],
   "source": [
    "# Define transformations (normalize pixel values to [-1, 1])\n",
    "transform = transforms.Compose([\n",
    "    transforms.ToTensor(),  # Convert images to PyTorch tensors\n",
    "    # transforms.Normalize((0.5,), (0.5,))  # Normalize with mean=0.5 and std=0.5\n",
    "])\n",
    "\n",
    "# Download and load the training and test datasets\n",
    "train_dataset = datasets.MNIST(\n",
    "    root='./data',  # Directory to save the dataset\n",
    "    train=True,     # Load the training set\n",
    "    transform=transform,\n",
    "    download=True   # Download the dataset if not already available\n",
    ")\n",
    "\n",
    "test_dataset = datasets.MNIST(\n",
    "    root='./data',\n",
    "    train=False,    # Load the test set\n",
    "    transform=transform,\n",
    "    download=True\n",
    ")\n",
    "\n",
    "# Data loaders for batch processing\n",
    "train_loader = torch.utils.data.DataLoader(\n",
    "    train_dataset,\n",
    "    batch_size=64,  # Batch size\n",
    "    shuffle=True    # Shuffle the data for training\n",
    ")\n",
    "\n",
    "test_loader = torch.utils.data.DataLoader(\n",
    "    test_dataset,\n",
    "    batch_size=64,\n",
    "    shuffle=False   # No need to shuffle for testing\n",
    ")"
   ]
  },
  {
   "cell_type": "markdown",
   "metadata": {},
   "source": [
    "# Variational Auto Encoder's Theory\n",
    "\n",
    "\n",
    "### Resources: \n",
    "https://arxiv.org/pdf/1312.6114\n",
    "\n",
    "https://www.youtube.com/watch?v=YV9D3TWY5Zo\n",
    "\n"
   ]
  },
  {
   "cell_type": "markdown",
   "metadata": {},
   "source": [
    "<center>\n",
    "<img src=\"images/1.png\" alt=\"Image\" width=\"700\" height=\"300\", title=\"VAE\">\n",
    "<br>\n",
    "<label><h5>High reconstruction error indicates an anomaly, <br>meaning the input data is different from the data the network has seen during training</h5></label>\n",
    "<br>\n",
    "<img src=\"images/2.png\" alt=\"Image\" width=\"700\" height=\"300\", title=\"VAE\">\n",
    "<br>\n",
    "\n",
    "<label><h5>The left graph represents a normal AE, while the right one represents a VAE.</h5></label>\n",
    "</center>\n",
    "Normal AE is not robust when the image is slightly different from the data it has seen during training. <br>\n",
    "It has an unknown distribution of the latent space, and there is no possibility of smooth transformation of the reconstruction. <br>\n",
    "If the decoder receives a noisy latent vector, it returns noise as well. <br>\n",
    "Working with an unknown distribution is extremely difficult, <br>\n",
    "so we need to regularize the latent vector distribution to a well-known Gaussian distribution using KL divergence (two distribution similarity score)\n",
    "</label>\n",
    "<br>\n",
    "<br>\n",
    "\n",
    "<center>\n",
    "<img src=\"images/3.png\" alt=\"Image\" width=\"800\" height=\"400\", title=\"VAE\">\n",
    "<br>\n",
    "</center>\n",
    "<center>\n",
    "<img src=\"images/4.png\" alt=\"Image\" width=\"600\" height=\"300\", title=\"VAE\">\n",
    "<br>\n",
    "<h5>Issue: Backpropagation through a randomized latent vector from a Gaussian distribution <br>with learned mean and standard deviation values from the encoder <br></h5>\n",
    "</center>\n",
    "\n",
    "<center><h5>Reparametrization trick solves the backpropogation issue</h5>\n",
    "<img src=\"images/5.png\" alt=\"Image\" width=\"700\" height=\"400\", title=\"VAE\">\n",
    "\n",
    "<label>Encoder needs to learn to describe the mean and std of a latent vector</label>\n",
    "</center>\n",
    "\n",
    "<br>\n",
    "<center>\n",
    "<img src=\"images/6.png\" alt=\"Image\" width=\"800\" height=\"800\", title=\"Paper\">\n",
    "\n",
    "</center>\n",
    "\n"
   ]
  },
  {
   "cell_type": "markdown",
   "metadata": {},
   "source": [
    "##### Loss function: Reconstruction loss + KL divergence loss"
   ]
  },
  {
   "cell_type": "code",
   "execution_count": 3,
   "metadata": {},
   "outputs": [],
   "source": [
    "import torch\n",
    "import torch.nn as nn\n",
    "import torch.nn.functional as F\n",
    "from torch.utils.data import DataLoader, Dataset\n",
    "import torchvision.transforms as transforms\n",
    "\n",
    "class VAE(nn.Module):\n",
    "    def __init__(self):\n",
    "        super(VAE, self).__init__()\n",
    "\n",
    "        # Encoder network\n",
    "        self.encoder = nn.Sequential(\n",
    "            nn.Conv2d(1, 32, kernel_size=4, stride=2, padding=1),  \n",
    "            nn.ReLU(),\n",
    "            nn.Conv2d(32, 64, kernel_size=4, stride=2, padding=1),  \n",
    "            nn.ReLU(),\n",
    "            nn.Conv2d(64, 3, kernel_size=4, stride=2, padding=1),  \n",
    "            nn.ReLU(),\n",
    "            # nn.Conv2d(128, 1, kernel_size=4, stride=2, padding=1), \n",
    "            # nn.ReLU(),\n",
    "            nn.Flatten(),\n",
    "        )\n",
    "        \n",
    "        self.fc_mu = nn.Linear(27, 2)\n",
    "        self.fc_logvar = nn.Linear(27, 2)\n",
    "\n",
    "        # Decoder network88\n",
    "        self.fc_decode = nn.Linear(2, 27)\n",
    "        self.decoder = nn.Sequential(\n",
    "            nn.Unflatten(1, (3, 3, 3)),\n",
    "            nn.ConvTranspose2d(3, 128, kernel_size=4, stride=2, padding=1),  \n",
    "            nn.ReLU(),\n",
    "            nn.ConvTranspose2d(128, 64, kernel_size=4, stride=2, padding=0),  \n",
    "            nn.ReLU(),\n",
    "            nn.ConvTranspose2d(64, 1, kernel_size=4, stride=2, padding=1),    \n",
    "            # nn.ReLU(),\n",
    "            # nn.ConvTranspose2d(32, 1, kernel_size=4, stride=2, padding=1),     \n",
    "            nn.Sigmoid(),\n",
    "        )\n",
    "\n",
    "    def encode(self, x):\n",
    "        h1 = self.encoder(x)\n",
    "        mu = self.fc_mu(h1)\n",
    "        logvar = self.fc_logvar(h1)\n",
    "        return mu, logvar\n",
    "\n",
    "    def reparameterize(self, mu, logvar):\n",
    "        # Convert logvar to standard deviation (std)\n",
    "        std = torch.exp(0.5 * logvar)\n",
    "        eps = torch.randn_like(std)\n",
    "        return mu + eps * std\n",
    "\n",
    "    def decode(self, z):\n",
    "        h3 = self.fc_decode(z)\n",
    "        x_reconstructed = self.decoder(h3)\n",
    "        return x_reconstructed\n",
    "\n",
    "    def forward(self, x):\n",
    "        mu, logvar = self.encode(x)\n",
    "        z = self.reparameterize(mu, logvar)\n",
    "        x_reconstructed = self.decode(z)\n",
    "        return x_reconstructed, mu, logvar\n",
    "\n",
    "def loss_function(reconstructed_x, x, mu, logvar):\n",
    "    # Binary Cross-Entropy (BCE) loss for reconstruction + KL divergence loss\n",
    "    BCE = F.binary_cross_entropy(reconstructed_x, x, reduction='sum')\n",
    "    # MSE = F.mse_loss(input=reconstructed_x, target=x, reduction='sum')\n",
    "    # KL Divergence losssum\n",
    "    # Equation for KL divergence between normal distribution and learned distribution\n",
    "    # D_KL = -0.5 * sum(1 + log(sigma^2) - mu^2 - sigma^2)\n",
    "    # where sigma is exp(logvar / 2)\n",
    "    # We are working with the N(0,1) as the prior\n",
    "    # This loss is summed over all pixels in the image\n",
    "    KL_divergence = -0.5 * torch.sum(1 + logvar - mu.pow(2) - logvar.exp())\n",
    "    return BCE + KL_divergence\n",
    "\n",
    "\n",
    "# vae = VAE()\n",
    "# vae(imgs.cpu())[0].shape\n",
    "# input_image = torch.ones((1, 1, 28, 28))\n",
    "# vae(input_image)[0].shape\n",
    "# reconstructed_image, mu, logvar = vae(imgs[:])\n",
    "# loss_function(reconstructed_image, imgs[:], mu, logvar)"
   ]
  },
  {
   "cell_type": "code",
   "execution_count": 4,
   "metadata": {},
   "outputs": [],
   "source": [
    "os.makedirs(\"models_mnist/\", exist_ok=True)\n",
    "\n",
    "def save_best_model(vae, lowest_val_loss, epoch, train_loss, val_loss):\n",
    "    torch.save({\n",
    "        \"epoch\": epoch,\n",
    "        \"train_loss\": round(train_loss, 2),\n",
    "        \"val_loss\": round(val_loss, 2),\n",
    "        \"state_dict\": vae.state_dict(),\n",
    "    }, f\"models_mnist/last_model.pt\")\n",
    "    \n",
    "    if lowest_val_loss > val_loss:\n",
    "        torch.save({\n",
    "            \"epoch\": epoch,\n",
    "            \"train_loss\": round(train_loss, 2),\n",
    "            \"val_loss\": round(val_loss, 2),\n",
    "            \"state_dict\": vae.state_dict(),\n",
    "        }, f\"models_mnist/best_model_{epoch}_t_{train_loss}_v_{val_loss}.pt\")\n",
    "        print(f\"The best model was saved with val_loss: {val_loss}\")\n",
    "        return val_loss\n",
    "    return lowest_val_loss"
   ]
  },
  {
   "cell_type": "code",
   "execution_count": 5,
   "metadata": {},
   "outputs": [],
   "source": [
    "vae = VAE().to(device)\n",
    "optimizer = torch.optim.Adam(vae.parameters(), lr=1e-3)"
   ]
  },
  {
   "cell_type": "code",
   "execution_count": 6,
   "metadata": {},
   "outputs": [
    {
     "name": "stderr",
     "output_type": "stream",
     "text": [
      "  5%|▌         | 1/20 [00:44<13:57, 44.09s/it]"
     ]
    },
    {
     "name": "stdout",
     "output_type": "stream",
     "text": [
      "The best model was saved with val_loss: 10818.302734375\n",
      "Epoch: 0 | training loss: 12200.50 | validation loss: 10818.30\n"
     ]
    },
    {
     "name": "stderr",
     "output_type": "stream",
     "text": [
      " 10%|█         | 2/20 [01:18<11:30, 38.35s/it]"
     ]
    },
    {
     "name": "stdout",
     "output_type": "stream",
     "text": [
      "The best model was saved with val_loss: 10374.2783203125\n",
      "Epoch: 1 | training loss: 10637.01 | validation loss: 10374.28\n"
     ]
    },
    {
     "name": "stderr",
     "output_type": "stream",
     "text": [
      " 15%|█▌        | 3/20 [01:52<10:21, 36.54s/it]"
     ]
    },
    {
     "name": "stdout",
     "output_type": "stream",
     "text": [
      "The best model was saved with val_loss: 10145.2119140625\n",
      "Epoch: 2 | training loss: 10311.78 | validation loss: 10145.21\n"
     ]
    },
    {
     "name": "stderr",
     "output_type": "stream",
     "text": [
      " 20%|██        | 4/20 [02:26<09:28, 35.53s/it]"
     ]
    },
    {
     "name": "stdout",
     "output_type": "stream",
     "text": [
      "The best model was saved with val_loss: 10059.8857421875\n",
      "Epoch: 3 | training loss: 10140.46 | validation loss: 10059.89\n"
     ]
    },
    {
     "name": "stderr",
     "output_type": "stream",
     "text": [
      " 25%|██▌       | 5/20 [03:01<08:47, 35.13s/it]"
     ]
    },
    {
     "name": "stdout",
     "output_type": "stream",
     "text": [
      "The best model was saved with val_loss: 9930.716796875\n",
      "Epoch: 4 | training loss: 10032.85 | validation loss: 9930.72\n"
     ]
    },
    {
     "name": "stderr",
     "output_type": "stream",
     "text": [
      " 30%|███       | 6/20 [03:35<08:08, 34.88s/it]"
     ]
    },
    {
     "name": "stdout",
     "output_type": "stream",
     "text": [
      "The best model was saved with val_loss: 9926.8447265625\n",
      "Epoch: 5 | training loss: 9949.07 | validation loss: 9926.84\n"
     ]
    },
    {
     "name": "stderr",
     "output_type": "stream",
     "text": [
      " 35%|███▌      | 7/20 [04:09<07:30, 34.68s/it]"
     ]
    },
    {
     "name": "stdout",
     "output_type": "stream",
     "text": [
      "The best model was saved with val_loss: 9875.947265625\n",
      "Epoch: 6 | training loss: 9887.83 | validation loss: 9875.95\n"
     ]
    },
    {
     "name": "stderr",
     "output_type": "stream",
     "text": [
      " 40%|████      | 8/20 [04:44<06:54, 34.51s/it]"
     ]
    },
    {
     "name": "stdout",
     "output_type": "stream",
     "text": [
      "The best model was saved with val_loss: 9772.4912109375\n",
      "Epoch: 7 | training loss: 9829.07 | validation loss: 9772.49\n"
     ]
    },
    {
     "name": "stderr",
     "output_type": "stream",
     "text": [
      " 45%|████▌     | 9/20 [05:18<06:17, 34.35s/it]"
     ]
    },
    {
     "name": "stdout",
     "output_type": "stream",
     "text": [
      "The best model was saved with val_loss: 9769.8701171875\n",
      "Epoch: 8 | training loss: 9788.48 | validation loss: 9769.87\n"
     ]
    },
    {
     "name": "stderr",
     "output_type": "stream",
     "text": [
      " 50%|█████     | 10/20 [05:52<05:44, 34.45s/it]"
     ]
    },
    {
     "name": "stdout",
     "output_type": "stream",
     "text": [
      "The best model was saved with val_loss: 9747.5712890625\n",
      "Epoch: 9 | training loss: 9750.28 | validation loss: 9747.57\n"
     ]
    },
    {
     "name": "stderr",
     "output_type": "stream",
     "text": [
      " 55%|█████▌    | 11/20 [06:26<05:09, 34.38s/it]"
     ]
    },
    {
     "name": "stdout",
     "output_type": "stream",
     "text": [
      "The best model was saved with val_loss: 9730.9072265625\n",
      "Epoch: 10 | training loss: 9717.52 | validation loss: 9730.91\n"
     ]
    },
    {
     "name": "stderr",
     "output_type": "stream",
     "text": [
      " 60%|██████    | 12/20 [07:00<04:34, 34.27s/it]"
     ]
    },
    {
     "name": "stdout",
     "output_type": "stream",
     "text": [
      "The best model was saved with val_loss: 9633.6318359375\n",
      "Epoch: 11 | training loss: 9690.03 | validation loss: 9633.63\n"
     ]
    },
    {
     "name": "stderr",
     "output_type": "stream",
     "text": [
      " 65%|██████▌   | 13/20 [07:34<03:59, 34.19s/it]"
     ]
    },
    {
     "name": "stdout",
     "output_type": "stream",
     "text": [
      "Epoch: 12 | training loss: 9663.61 | validation loss: 9691.36\n"
     ]
    },
    {
     "name": "stderr",
     "output_type": "stream",
     "text": [
      " 70%|███████   | 14/20 [08:08<03:24, 34.12s/it]"
     ]
    },
    {
     "name": "stdout",
     "output_type": "stream",
     "text": [
      "The best model was saved with val_loss: 9632.2861328125\n",
      "Epoch: 13 | training loss: 9643.19 | validation loss: 9632.29\n"
     ]
    },
    {
     "name": "stderr",
     "output_type": "stream",
     "text": [
      " 75%|███████▌  | 15/20 [08:43<02:52, 34.40s/it]"
     ]
    },
    {
     "name": "stdout",
     "output_type": "stream",
     "text": [
      "Epoch: 14 | training loss: 9624.30 | validation loss: 9636.07\n"
     ]
    },
    {
     "name": "stderr",
     "output_type": "stream",
     "text": [
      " 80%|████████  | 16/20 [09:18<02:17, 34.31s/it]"
     ]
    },
    {
     "name": "stdout",
     "output_type": "stream",
     "text": [
      "The best model was saved with val_loss: 9617.248046875\n",
      "Epoch: 15 | training loss: 9602.41 | validation loss: 9617.25\n"
     ]
    },
    {
     "name": "stderr",
     "output_type": "stream",
     "text": [
      " 85%|████████▌ | 17/20 [09:52<01:43, 34.46s/it]"
     ]
    },
    {
     "name": "stdout",
     "output_type": "stream",
     "text": [
      "Epoch: 16 | training loss: 9585.33 | validation loss: 9739.61\n"
     ]
    },
    {
     "name": "stderr",
     "output_type": "stream",
     "text": [
      " 90%|█████████ | 18/20 [10:27<01:09, 34.60s/it]"
     ]
    },
    {
     "name": "stdout",
     "output_type": "stream",
     "text": [
      "Epoch: 17 | training loss: 9569.87 | validation loss: 9636.02\n"
     ]
    },
    {
     "name": "stderr",
     "output_type": "stream",
     "text": [
      " 95%|█████████▌| 19/20 [11:02<00:34, 34.54s/it]"
     ]
    },
    {
     "name": "stdout",
     "output_type": "stream",
     "text": [
      "The best model was saved with val_loss: 9554.8623046875\n",
      "Epoch: 18 | training loss: 9552.82 | validation loss: 9554.86\n"
     ]
    },
    {
     "name": "stderr",
     "output_type": "stream",
     "text": [
      "100%|██████████| 20/20 [11:36<00:00, 34.82s/it]"
     ]
    },
    {
     "name": "stdout",
     "output_type": "stream",
     "text": [
      "The best model was saved with val_loss: 9537.3115234375\n",
      "Epoch: 19 | training loss: 9542.13 | validation loss: 9537.31\n"
     ]
    },
    {
     "name": "stderr",
     "output_type": "stream",
     "text": [
      "\n"
     ]
    }
   ],
   "source": [
    "iterations = 20\n",
    "lowest_val_loss = torch.inf\n",
    "train_loss, val_loss = [], []\n",
    "\n",
    "\n",
    "for epoch in tqdm.trange(iterations):\n",
    "    vae.train()\n",
    "    epoch_loss, count = 0, 0\n",
    "    for imgs, _ in train_loader:\n",
    "        imgs = imgs.to(device)\n",
    "        reconstructed_mel, mu, logvar = vae(imgs)\n",
    "        loss = loss_function(reconstructed_mel, imgs, mu, logvar)\n",
    "        optimizer.zero_grad()\n",
    "        loss.backward()\n",
    "        optimizer.step()\n",
    "        epoch_loss += loss\n",
    "        count += 1  \n",
    "    loss = epoch_loss / count\n",
    "    train_loss.append(loss.item())\n",
    "\n",
    "    vae.eval()\n",
    "    with torch.no_grad():\n",
    "        epoch_loss, count = 0, 0\n",
    "        for imgs, _ in test_loader:\n",
    "            imgs = imgs.to(device)\n",
    "            reconstructed_mel, mu, logvar = vae(imgs)\n",
    "            loss = loss_function(reconstructed_mel, imgs, mu, logvar)\n",
    "            epoch_loss += loss\n",
    "            count += 1\n",
    "        loss = epoch_loss / count\n",
    "        val_loss.append(loss.item())\n",
    "\n",
    "    lowest_val_loss = save_best_model(vae, lowest_val_loss, epoch, train_loss[-1], val_loss[-1])\n",
    "    print(f\"Epoch: {epoch} | training loss: {train_loss[-1]:.2f} | validation loss: {val_loss[-1]:.2f}\")\n"
   ]
  },
  {
   "cell_type": "code",
   "execution_count": null,
   "metadata": {},
   "outputs": [],
   "source": [
    "# pd.DataFrame({\n",
    "#     \"epoch\": range(len(train_loss)),\n",
    "#     \"train_loss\": train_loss,\n",
    "#     \"val_loss\": val_loss\n",
    "# }).to_csv('mnist_vae_loss.csv', index=False)"
   ]
  },
  {
   "cell_type": "code",
   "execution_count": 9,
   "metadata": {},
   "outputs": [
    {
     "name": "stderr",
     "output_type": "stream",
     "text": [
      "/tmp/ipykernel_58310/1659441775.py:2: FutureWarning: You are using `torch.load` with `weights_only=False` (the current default value), which uses the default pickle module implicitly. It is possible to construct malicious pickle data which will execute arbitrary code during unpickling (See https://github.com/pytorch/pytorch/blob/main/SECURITY.md#untrusted-models for more details). In a future release, the default value for `weights_only` will be flipped to `True`. This limits the functions that could be executed during unpickling. Arbitrary objects will no longer be allowed to be loaded via this mode unless they are explicitly allowlisted by the user via `torch.serialization.add_safe_globals`. We recommend you start setting `weights_only=True` for any use case where you don't have full control of the loaded file. Please open an issue on GitHub for any issues related to this experimental feature.\n",
      "  vae.load_state_dict(torch.load('models_mnist/best_model_19_t_9542.1279296875_v_9537.3115234375.pt')['state_dict'])\n"
     ]
    },
    {
     "data": {
      "text/plain": [
       "<All keys matched successfully>"
      ]
     },
     "execution_count": 9,
     "metadata": {},
     "output_type": "execute_result"
    }
   ],
   "source": [
    "vae.eval().cpu();\n",
    "vae.load_state_dict(torch.load('models_mnist/best_model_19_t_9542.1279296875_v_9537.3115234375.pt')['state_dict'])"
   ]
  },
  {
   "cell_type": "code",
   "execution_count": 12,
   "metadata": {},
   "outputs": [
    {
     "data": {
      "text/plain": [
       "<matplotlib.image.AxesImage at 0x7be9e71dc800>"
      ]
     },
     "execution_count": 12,
     "metadata": {},
     "output_type": "execute_result"
    },
    {
     "data": {
      "image/png": "[encoded data removed]",
      "text/plain": [
       "<Figure size 640x480 with 1 Axes>"
      ]
     },
     "metadata": {},
     "output_type": "display_data"
    }
   ],
   "source": [
    "image = vae.decode(torch.tensor(([[0.7, 0.8]]), dtype=torch.float32, device='cpu'))\n",
    "plt.imshow(image.detach().cpu().squeeze(0).permute(1, 2, 0))"
   ]
  },
  {
   "cell_type": "code",
   "execution_count": 22,
   "metadata": {},
   "outputs": [],
   "source": [
    "with torch.no_grad():\n",
    "    out, m, std = vae(imgs)"
   ]
  },
  {
   "cell_type": "code",
   "execution_count": 23,
   "metadata": {},
   "outputs": [
    {
     "data": {
      "text/plain": [
       "<matplotlib.image.AxesImage at 0x7be9d45a2000>"
      ]
     },
     "execution_count": 23,
     "metadata": {},
     "output_type": "execute_result"
    },
    {
     "data": {
      "image/png": "[encoded data removed]",
      "text/plain": [
       "<Figure size 640x480 with 1 Axes>"
      ]
     },
     "metadata": {},
     "output_type": "display_data"
    }
   ],
   "source": [
    "plt.imshow(out[0].permute(1,2,0))"
   ]
  },
  {
   "cell_type": "code",
   "execution_count": 26,
   "metadata": {},
   "outputs": [
    {
     "data": {
      "text/plain": [
       "tensor(0.0667)"
      ]
     },
     "execution_count": 26,
     "metadata": {},
     "output_type": "execute_result"
    }
   ],
   "source": [
    "F.binary_cross_entropy(input=out[0], target=imgs[0], reduction='mean')"
   ]
  },
  {
   "cell_type": "code",
   "execution_count": null,
   "metadata": {},
   "outputs": [],
   "source": []
  },
  {
   "cell_type": "code",
   "execution_count": null,
   "metadata": {},
   "outputs": [],
   "source": []
  },
  {
   "cell_type": "code",
   "execution_count": null,
   "metadata": {},
   "outputs": [],
   "source": []
  }
 ],
 "metadata": {
  "kernelspec": {
   "display_name": ".venv",
   "language": "python",
   "name": "python3"
  },
  "language_info": {
   "codemirror_mode": {
    "name": "ipython",
    "version": 3
   },
   "file_extension": ".py",
   "mimetype": "text/x-python",
   "name": "python",
   "nbconvert_exporter": "python",
   "pygments_lexer": "ipython3",
   "version": "3.12.3"
  }
 },
 "nbformat": 4,
 "nbformat_minor": 2
}
